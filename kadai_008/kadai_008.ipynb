{
  "cells": [
    {
      "cell_type": "code",
      "execution_count": 2,
      "metadata": {
        "id": "HopZDASB6ex-"
      },
      "outputs": [],
      "source": [
        "from sklearn.datasets import load_wine\n"
      ]
    },
    {
      "cell_type": "code",
      "execution_count": 5,
      "metadata": {
        "colab": {
          "base_uri": "https://localhost:8080/"
        },
        "id": "asGx2iaE6mrg",
        "outputId": "fc351f9b-96aa-4728-f3ca-2efba3ffbf9e"
      },
      "outputs": [],
      "source": [
        "dataset = load_wine()\n",
        "\n"
      ]
    },
    {
      "cell_type": "code",
      "execution_count": 8,
      "metadata": {
        "colab": {
          "base_uri": "https://localhost:8080/"
        },
        "id": "P9WHsI6W6puJ",
        "outputId": "acab7e18-676d-49b3-8294-f945d11c4f2b"
      },
      "outputs": [
        {
          "data": {
            "text/plain": [
              "array([[1.423e+01, 1.710e+00, 2.430e+00, ..., 1.040e+00, 3.920e+00,\n",
              "        1.065e+03],\n",
              "       [1.320e+01, 1.780e+00, 2.140e+00, ..., 1.050e+00, 3.400e+00,\n",
              "        1.050e+03],\n",
              "       [1.316e+01, 2.360e+00, 2.670e+00, ..., 1.030e+00, 3.170e+00,\n",
              "        1.185e+03],\n",
              "       ...,\n",
              "       [1.327e+01, 4.280e+00, 2.260e+00, ..., 5.900e-01, 1.560e+00,\n",
              "        8.350e+02],\n",
              "       [1.317e+01, 2.590e+00, 2.370e+00, ..., 6.000e-01, 1.620e+00,\n",
              "        8.400e+02],\n",
              "       [1.413e+01, 4.100e+00, 2.740e+00, ..., 6.100e-01, 1.600e+00,\n",
              "        5.600e+02]])"
            ]
          },
          "execution_count": 8,
          "metadata": {},
          "output_type": "execute_result"
        }
      ],
      "source": [
        "dataset.data\n"
      ]
    },
    {
      "cell_type": "code",
      "execution_count": 9,
      "metadata": {
        "colab": {
          "base_uri": "https://localhost:8080/"
        },
        "id": "30kZZ8EN6sdm",
        "outputId": "7d8bda8f-71bb-413f-dca9-3c15e9bc972c"
      },
      "outputs": [
        {
          "data": {
            "text/plain": [
              "['alcohol',\n",
              " 'malic_acid',\n",
              " 'ash',\n",
              " 'alcalinity_of_ash',\n",
              " 'magnesium',\n",
              " 'total_phenols',\n",
              " 'flavanoids',\n",
              " 'nonflavanoid_phenols',\n",
              " 'proanthocyanins',\n",
              " 'color_intensity',\n",
              " 'hue',\n",
              " 'od280/od315_of_diluted_wines',\n",
              " 'proline']"
            ]
          },
          "execution_count": 9,
          "metadata": {},
          "output_type": "execute_result"
        }
      ],
      "source": [
        "dataset.feature_names\n"
      ]
    },
    {
      "cell_type": "code",
      "execution_count": 10,
      "metadata": {
        "id": "KFbBlt0s7Cv_"
      },
      "outputs": [],
      "source": [
        "import pandas as pd"
      ]
    },
    {
      "cell_type": "code",
      "execution_count": 47,
      "metadata": {
        "colab": {
          "base_uri": "https://localhost:8080/",
          "height": 226
        },
        "id": "kDCa0mL67HNg",
        "outputId": "12f7ff4b-ff5d-4c58-8c8b-2211c041c158"
      },
      "outputs": [],
      "source": [
        "df = pd.DataFrame(data=dataset.data, columns=dataset.feature_names)\n",
        "\n"
      ]
    },
    {
      "cell_type": "code",
      "execution_count": 12,
      "metadata": {
        "colab": {
          "base_uri": "https://localhost:8080/"
        },
        "id": "VYrpUJNW8Plg",
        "outputId": "b52af95e-0e1b-47b4-84f2-0845b9d7fa43"
      },
      "outputs": [
        {
          "data": {
            "text/plain": [
              "array([0, 0, 0, 0, 0, 0, 0, 0, 0, 0, 0, 0, 0, 0, 0, 0, 0, 0, 0, 0, 0, 0,\n",
              "       0, 0, 0, 0, 0, 0, 0, 0, 0, 0, 0, 0, 0, 0, 0, 0, 0, 0, 0, 0, 0, 0,\n",
              "       0, 0, 0, 0, 0, 0, 0, 0, 0, 0, 0, 0, 0, 0, 0, 1, 1, 1, 1, 1, 1, 1,\n",
              "       1, 1, 1, 1, 1, 1, 1, 1, 1, 1, 1, 1, 1, 1, 1, 1, 1, 1, 1, 1, 1, 1,\n",
              "       1, 1, 1, 1, 1, 1, 1, 1, 1, 1, 1, 1, 1, 1, 1, 1, 1, 1, 1, 1, 1, 1,\n",
              "       1, 1, 1, 1, 1, 1, 1, 1, 1, 1, 1, 1, 1, 1, 1, 1, 1, 1, 1, 1, 2, 2,\n",
              "       2, 2, 2, 2, 2, 2, 2, 2, 2, 2, 2, 2, 2, 2, 2, 2, 2, 2, 2, 2, 2, 2,\n",
              "       2, 2, 2, 2, 2, 2, 2, 2, 2, 2, 2, 2, 2, 2, 2, 2, 2, 2, 2, 2, 2, 2,\n",
              "       2, 2])"
            ]
          },
          "execution_count": 12,
          "metadata": {},
          "output_type": "execute_result"
        }
      ],
      "source": [
        "dataset.target"
      ]
    },
    {
      "cell_type": "code",
      "execution_count": 46,
      "metadata": {
        "colab": {
          "base_uri": "https://localhost:8080/",
          "height": 226
        },
        "id": "foSBuEdN8YwW",
        "outputId": "5e477f9d-f1eb-4ae5-bf67-98df86548db6"
      },
      "outputs": [],
      "source": [
        "df['category'] = dataset.target\n"
      ]
    },
    {
      "cell_type": "code",
      "execution_count": 44,
      "metadata": {
        "colab": {
          "base_uri": "https://localhost:8080/",
          "height": 226
        },
        "id": "A7sbdsua8n4d",
        "outputId": "3402f034-adf5-4489-bc02-151df88d7135"
      },
      "outputs": [],
      "source": [
        "df['category'] = dataset.target\n",
        "\n"
      ]
    },
    {
      "cell_type": "code",
      "execution_count": 15,
      "metadata": {
        "colab": {
          "base_uri": "https://localhost:8080/"
        },
        "id": "rilVDbU18tA0",
        "outputId": "094a35ef-313c-43eb-e265-0f1e6514d7fd"
      },
      "outputs": [
        {
          "data": {
            "text/plain": [
              "(178, 14)"
            ]
          },
          "execution_count": 15,
          "metadata": {},
          "output_type": "execute_result"
        }
      ],
      "source": [
        "df.shape\n"
      ]
    },
    {
      "cell_type": "code",
      "execution_count": 16,
      "metadata": {
        "id": "Rt0DYs6o869t"
      },
      "outputs": [],
      "source": [
        "X = dataset.data\n",
        "y = dataset.target\n"
      ]
    },
    {
      "cell_type": "code",
      "execution_count": 17,
      "metadata": {
        "id": "3R3H6wOl89o6"
      },
      "outputs": [],
      "source": [
        "from sklearn.model_selection import train_test_split\n"
      ]
    },
    {
      "cell_type": "code",
      "execution_count": 18,
      "metadata": {
        "id": "kIVkkZACKAHQ"
      },
      "outputs": [],
      "source": [
        "from sklearn.model_selection import train_test_split\n"
      ]
    },
    {
      "cell_type": "code",
      "execution_count": 19,
      "metadata": {
        "colab": {
          "base_uri": "https://localhost:8080/"
        },
        "id": "6wlo-9piLqi4",
        "outputId": "9642ed4b-17d5-4981-c657-af4e4a24c278"
      },
      "outputs": [
        {
          "data": {
            "text/plain": [
              "[array([[1.358e+01, 2.580e+00, 2.690e+00, ..., 7.400e-01, 1.800e+00,\n",
              "         7.500e+02],\n",
              "        [1.234e+01, 2.450e+00, 2.460e+00, ..., 8.000e-01, 3.380e+00,\n",
              "         4.380e+02],\n",
              "        [1.285e+01, 3.270e+00, 2.580e+00, ..., 8.700e-01, 2.110e+00,\n",
              "         5.700e+02],\n",
              "        ...,\n",
              "        [1.225e+01, 3.880e+00, 2.200e+00, ..., 6.500e-01, 2.000e+00,\n",
              "         8.550e+02],\n",
              "        [1.277e+01, 3.430e+00, 1.980e+00, ..., 7.000e-01, 2.120e+00,\n",
              "         3.720e+02],\n",
              "        [1.229e+01, 3.170e+00, 2.210e+00, ..., 1.420e+00, 2.830e+00,\n",
              "         4.060e+02]]),\n",
              " array([[1.387000e+01, 1.900000e+00, 2.800000e+00, 1.940000e+01,\n",
              "         1.070000e+02, 2.950000e+00, 2.970000e+00, 3.700000e-01,\n",
              "         1.760000e+00, 4.500000e+00, 1.250000e+00, 3.400000e+00,\n",
              "         9.150000e+02],\n",
              "        [1.311000e+01, 1.010000e+00, 1.700000e+00, 1.500000e+01,\n",
              "         7.800000e+01, 2.980000e+00, 3.180000e+00, 2.600000e-01,\n",
              "         2.280000e+00, 5.300000e+00, 1.120000e+00, 3.180000e+00,\n",
              "         5.020000e+02],\n",
              "        [1.437000e+01, 1.950000e+00, 2.500000e+00, 1.680000e+01,\n",
              "         1.130000e+02, 3.850000e+00, 3.490000e+00, 2.400000e-01,\n",
              "         2.180000e+00, 7.800000e+00, 8.600000e-01, 3.450000e+00,\n",
              "         1.480000e+03],\n",
              "        [1.383000e+01, 1.570000e+00, 2.620000e+00, 2.000000e+01,\n",
              "         1.150000e+02, 2.950000e+00, 3.400000e+00, 4.000000e-01,\n",
              "         1.720000e+00, 6.600000e+00, 1.130000e+00, 2.570000e+00,\n",
              "         1.130000e+03],\n",
              "        [1.349000e+01, 3.590000e+00, 2.190000e+00, 1.950000e+01,\n",
              "         8.800000e+01, 1.620000e+00, 4.800000e-01, 5.800000e-01,\n",
              "         8.800000e-01, 5.700000e+00, 8.100000e-01, 1.820000e+00,\n",
              "         5.800000e+02],\n",
              "        [1.345000e+01, 3.700000e+00, 2.600000e+00, 2.300000e+01,\n",
              "         1.110000e+02, 1.700000e+00, 9.200000e-01, 4.300000e-01,\n",
              "         1.460000e+00, 1.068000e+01, 8.500000e-01, 1.560000e+00,\n",
              "         6.950000e+02],\n",
              "        [1.410000e+01, 2.020000e+00, 2.400000e+00, 1.880000e+01,\n",
              "         1.030000e+02, 2.750000e+00, 2.920000e+00, 3.200000e-01,\n",
              "         2.380000e+00, 6.200000e+00, 1.070000e+00, 2.750000e+00,\n",
              "         1.060000e+03],\n",
              "        [1.356000e+01, 1.710000e+00, 2.310000e+00, 1.620000e+01,\n",
              "         1.170000e+02, 3.150000e+00, 3.290000e+00, 3.400000e-01,\n",
              "         2.340000e+00, 6.130000e+00, 9.500000e-01, 3.380000e+00,\n",
              "         7.950000e+02],\n",
              "        [1.247000e+01, 1.520000e+00, 2.200000e+00, 1.900000e+01,\n",
              "         1.620000e+02, 2.500000e+00, 2.270000e+00, 3.200000e-01,\n",
              "         3.280000e+00, 2.600000e+00, 1.160000e+00, 2.630000e+00,\n",
              "         9.370000e+02],\n",
              "        [1.305000e+01, 2.050000e+00, 3.220000e+00, 2.500000e+01,\n",
              "         1.240000e+02, 2.630000e+00, 2.680000e+00, 4.700000e-01,\n",
              "         1.920000e+00, 3.580000e+00, 1.130000e+00, 3.200000e+00,\n",
              "         8.300000e+02],\n",
              "        [1.422000e+01, 3.990000e+00, 2.510000e+00, 1.320000e+01,\n",
              "         1.280000e+02, 3.000000e+00, 3.040000e+00, 2.000000e-01,\n",
              "         2.080000e+00, 5.100000e+00, 8.900000e-01, 3.530000e+00,\n",
              "         7.600000e+02],\n",
              "        [1.356000e+01, 1.730000e+00, 2.460000e+00, 2.050000e+01,\n",
              "         1.160000e+02, 2.960000e+00, 2.780000e+00, 2.000000e-01,\n",
              "         2.450000e+00, 6.250000e+00, 9.800000e-01, 3.030000e+00,\n",
              "         1.120000e+03],\n",
              "        [1.270000e+01, 3.550000e+00, 2.360000e+00, 2.150000e+01,\n",
              "         1.060000e+02, 1.700000e+00, 1.200000e+00, 1.700000e-01,\n",
              "         8.400000e-01, 5.000000e+00, 7.800000e-01, 1.290000e+00,\n",
              "         6.000000e+02],\n",
              "        [1.260000e+01, 1.340000e+00, 1.900000e+00, 1.850000e+01,\n",
              "         8.800000e+01, 1.450000e+00, 1.360000e+00, 2.900000e-01,\n",
              "         1.350000e+00, 2.450000e+00, 1.040000e+00, 2.770000e+00,\n",
              "         5.620000e+02],\n",
              "        [1.352000e+01, 3.170000e+00, 2.720000e+00, 2.350000e+01,\n",
              "         9.700000e+01, 1.550000e+00, 5.200000e-01, 5.000000e-01,\n",
              "         5.500000e-01, 4.350000e+00, 8.900000e-01, 2.060000e+00,\n",
              "         5.200000e+02],\n",
              "        [1.339000e+01, 1.770000e+00, 2.620000e+00, 1.610000e+01,\n",
              "         9.300000e+01, 2.850000e+00, 2.940000e+00, 3.400000e-01,\n",
              "         1.450000e+00, 4.800000e+00, 9.200000e-01, 3.220000e+00,\n",
              "         1.195000e+03],\n",
              "        [1.243000e+01, 1.530000e+00, 2.290000e+00, 2.150000e+01,\n",
              "         8.600000e+01, 2.740000e+00, 3.150000e+00, 3.900000e-01,\n",
              "         1.770000e+00, 3.940000e+00, 6.900000e-01, 2.840000e+00,\n",
              "         3.520000e+02],\n",
              "        [1.324000e+01, 3.980000e+00, 2.290000e+00, 1.750000e+01,\n",
              "         1.030000e+02, 2.640000e+00, 2.630000e+00, 3.200000e-01,\n",
              "         1.660000e+00, 4.360000e+00, 8.200000e-01, 3.000000e+00,\n",
              "         6.800000e+02],\n",
              "        [1.184000e+01, 8.900000e-01, 2.580000e+00, 1.800000e+01,\n",
              "         9.400000e+01, 2.200000e+00, 2.210000e+00, 2.200000e-01,\n",
              "         2.350000e+00, 3.050000e+00, 7.900000e-01, 3.080000e+00,\n",
              "         5.200000e+02],\n",
              "        [1.293000e+01, 3.800000e+00, 2.650000e+00, 1.860000e+01,\n",
              "         1.020000e+02, 2.410000e+00, 2.410000e+00, 2.500000e-01,\n",
              "         1.980000e+00, 4.500000e+00, 1.030000e+00, 3.520000e+00,\n",
              "         7.700000e+02],\n",
              "        [1.422000e+01, 1.700000e+00, 2.300000e+00, 1.630000e+01,\n",
              "         1.180000e+02, 3.200000e+00, 3.000000e+00, 2.600000e-01,\n",
              "         2.030000e+00, 6.380000e+00, 9.400000e-01, 3.310000e+00,\n",
              "         9.700000e+02],\n",
              "        [1.329000e+01, 1.970000e+00, 2.680000e+00, 1.680000e+01,\n",
              "         1.020000e+02, 3.000000e+00, 3.230000e+00, 3.100000e-01,\n",
              "         1.660000e+00, 6.000000e+00, 1.070000e+00, 2.840000e+00,\n",
              "         1.270000e+03],\n",
              "        [1.196000e+01, 1.090000e+00, 2.300000e+00, 2.100000e+01,\n",
              "         1.010000e+02, 3.380000e+00, 2.140000e+00, 1.300000e-01,\n",
              "         1.650000e+00, 3.210000e+00, 9.900000e-01, 3.130000e+00,\n",
              "         8.860000e+02],\n",
              "        [1.269000e+01, 1.530000e+00, 2.260000e+00, 2.070000e+01,\n",
              "         8.000000e+01, 1.380000e+00, 1.460000e+00, 5.800000e-01,\n",
              "         1.620000e+00, 3.050000e+00, 9.600000e-01, 2.060000e+00,\n",
              "         4.950000e+02],\n",
              "        [1.252000e+01, 2.430000e+00, 2.170000e+00, 2.100000e+01,\n",
              "         8.800000e+01, 2.550000e+00, 2.270000e+00, 2.600000e-01,\n",
              "         1.220000e+00, 2.000000e+00, 9.000000e-01, 2.780000e+00,\n",
              "         3.250000e+02],\n",
              "        [1.208000e+01, 1.390000e+00, 2.500000e+00, 2.250000e+01,\n",
              "         8.400000e+01, 2.560000e+00, 2.290000e+00, 4.300000e-01,\n",
              "         1.040000e+00, 2.900000e+00, 9.300000e-01, 3.190000e+00,\n",
              "         3.850000e+02],\n",
              "        [1.377000e+01, 1.900000e+00, 2.680000e+00, 1.710000e+01,\n",
              "         1.150000e+02, 3.000000e+00, 2.790000e+00, 3.900000e-01,\n",
              "         1.680000e+00, 6.300000e+00, 1.130000e+00, 2.930000e+00,\n",
              "         1.375000e+03],\n",
              "        [1.286000e+01, 1.350000e+00, 2.320000e+00, 1.800000e+01,\n",
              "         1.220000e+02, 1.510000e+00, 1.250000e+00, 2.100000e-01,\n",
              "         9.400000e-01, 4.100000e+00, 7.600000e-01, 1.290000e+00,\n",
              "         6.300000e+02],\n",
              "        [1.340000e+01, 3.910000e+00, 2.480000e+00, 2.300000e+01,\n",
              "         1.020000e+02, 1.800000e+00, 7.500000e-01, 4.300000e-01,\n",
              "         1.410000e+00, 7.300000e+00, 7.000000e-01, 1.560000e+00,\n",
              "         7.500000e+02],\n",
              "        [1.388000e+01, 1.890000e+00, 2.590000e+00, 1.500000e+01,\n",
              "         1.010000e+02, 3.250000e+00, 3.560000e+00, 1.700000e-01,\n",
              "         1.700000e+00, 5.430000e+00, 8.800000e-01, 3.560000e+00,\n",
              "         1.095000e+03],\n",
              "        [1.237000e+01, 1.630000e+00, 2.300000e+00, 2.450000e+01,\n",
              "         8.800000e+01, 2.220000e+00, 2.450000e+00, 4.000000e-01,\n",
              "         1.900000e+00, 2.120000e+00, 8.900000e-01, 2.780000e+00,\n",
              "         3.420000e+02],\n",
              "        [1.367000e+01, 1.250000e+00, 1.920000e+00, 1.800000e+01,\n",
              "         9.400000e+01, 2.100000e+00, 1.790000e+00, 3.200000e-01,\n",
              "         7.300000e-01, 3.800000e+00, 1.230000e+00, 2.460000e+00,\n",
              "         6.300000e+02],\n",
              "        [1.285000e+01, 1.600000e+00, 2.520000e+00, 1.780000e+01,\n",
              "         9.500000e+01, 2.480000e+00, 2.370000e+00, 2.600000e-01,\n",
              "         1.460000e+00, 3.930000e+00, 1.090000e+00, 3.630000e+00,\n",
              "         1.015000e+03],\n",
              "        [1.320000e+01, 1.780000e+00, 2.140000e+00, 1.120000e+01,\n",
              "         1.000000e+02, 2.650000e+00, 2.760000e+00, 2.600000e-01,\n",
              "         1.280000e+00, 4.380000e+00, 1.050000e+00, 3.400000e+00,\n",
              "         1.050000e+03],\n",
              "        [1.316000e+01, 3.570000e+00, 2.150000e+00, 2.100000e+01,\n",
              "         1.020000e+02, 1.500000e+00, 5.500000e-01, 4.300000e-01,\n",
              "         1.300000e+00, 4.000000e+00, 6.000000e-01, 1.680000e+00,\n",
              "         8.300000e+02],\n",
              "        [1.317000e+01, 2.590000e+00, 2.370000e+00, 2.000000e+01,\n",
              "         1.200000e+02, 1.650000e+00, 6.800000e-01, 5.300000e-01,\n",
              "         1.460000e+00, 9.300000e+00, 6.000000e-01, 1.620000e+00,\n",
              "         8.400000e+02],\n",
              "        [1.374000e+01, 1.670000e+00, 2.250000e+00, 1.640000e+01,\n",
              "         1.180000e+02, 2.600000e+00, 2.900000e+00, 2.100000e-01,\n",
              "         1.620000e+00, 5.850000e+00, 9.200000e-01, 3.200000e+00,\n",
              "         1.060000e+03],\n",
              "        [1.293000e+01, 2.810000e+00, 2.700000e+00, 2.100000e+01,\n",
              "         9.600000e+01, 1.540000e+00, 5.000000e-01, 5.300000e-01,\n",
              "         7.500000e-01, 4.600000e+00, 7.700000e-01, 2.310000e+00,\n",
              "         6.000000e+02],\n",
              "        [1.332000e+01, 3.240000e+00, 2.380000e+00, 2.150000e+01,\n",
              "         9.200000e+01, 1.930000e+00, 7.600000e-01, 4.500000e-01,\n",
              "         1.250000e+00, 8.420000e+00, 5.500000e-01, 1.620000e+00,\n",
              "         6.500000e+02],\n",
              "        [1.272000e+01, 1.810000e+00, 2.200000e+00, 1.880000e+01,\n",
              "         8.600000e+01, 2.200000e+00, 2.530000e+00, 2.600000e-01,\n",
              "         1.770000e+00, 3.900000e+00, 1.160000e+00, 3.140000e+00,\n",
              "         7.140000e+02],\n",
              "        [1.164000e+01, 2.060000e+00, 2.460000e+00, 2.160000e+01,\n",
              "         8.400000e+01, 1.950000e+00, 1.690000e+00, 4.800000e-01,\n",
              "         1.350000e+00, 2.800000e+00, 1.000000e+00, 2.750000e+00,\n",
              "         6.800000e+02],\n",
              "        [1.264000e+01, 1.360000e+00, 2.020000e+00, 1.680000e+01,\n",
              "         1.000000e+02, 2.020000e+00, 1.410000e+00, 5.300000e-01,\n",
              "         6.200000e-01, 5.750000e+00, 9.800000e-01, 1.590000e+00,\n",
              "         4.500000e+02],\n",
              "        [1.225000e+01, 4.720000e+00, 2.540000e+00, 2.100000e+01,\n",
              "         8.900000e+01, 1.380000e+00, 4.700000e-01, 5.300000e-01,\n",
              "         8.000000e-01, 3.850000e+00, 7.500000e-01, 1.270000e+00,\n",
              "         7.200000e+02],\n",
              "        [1.438000e+01, 3.590000e+00, 2.280000e+00, 1.600000e+01,\n",
              "         1.020000e+02, 3.250000e+00, 3.170000e+00, 2.700000e-01,\n",
              "         2.190000e+00, 4.900000e+00, 1.040000e+00, 3.440000e+00,\n",
              "         1.065000e+03],\n",
              "        [1.277000e+01, 2.390000e+00, 2.280000e+00, 1.950000e+01,\n",
              "         8.600000e+01, 1.390000e+00, 5.100000e-01, 4.800000e-01,\n",
              "         6.400000e-01, 9.899999e+00, 5.700000e-01, 1.630000e+00,\n",
              "         4.700000e+02],\n",
              "        [1.237000e+01, 1.130000e+00, 2.160000e+00, 1.900000e+01,\n",
              "         8.700000e+01, 3.500000e+00, 3.100000e+00, 1.900000e-01,\n",
              "         1.870000e+00, 4.450000e+00, 1.220000e+00, 2.870000e+00,\n",
              "         4.200000e+02],\n",
              "        [1.305000e+01, 1.730000e+00, 2.040000e+00, 1.240000e+01,\n",
              "         9.200000e+01, 2.720000e+00, 3.270000e+00, 1.700000e-01,\n",
              "         2.910000e+00, 7.200000e+00, 1.120000e+00, 2.910000e+00,\n",
              "         1.150000e+03],\n",
              "        [1.296000e+01, 3.450000e+00, 2.350000e+00, 1.850000e+01,\n",
              "         1.060000e+02, 1.390000e+00, 7.000000e-01, 4.000000e-01,\n",
              "         9.400000e-01, 5.280000e+00, 6.800000e-01, 1.750000e+00,\n",
              "         6.750000e+02],\n",
              "        [1.375000e+01, 1.730000e+00, 2.410000e+00, 1.600000e+01,\n",
              "         8.900000e+01, 2.600000e+00, 2.760000e+00, 2.900000e-01,\n",
              "         1.810000e+00, 5.600000e+00, 1.150000e+00, 2.900000e+00,\n",
              "         1.320000e+03],\n",
              "        [1.229000e+01, 1.410000e+00, 1.980000e+00, 1.600000e+01,\n",
              "         8.500000e+01, 2.550000e+00, 2.500000e+00, 2.900000e-01,\n",
              "         1.770000e+00, 2.900000e+00, 1.230000e+00, 2.740000e+00,\n",
              "         4.280000e+02],\n",
              "        [1.383000e+01, 1.650000e+00, 2.600000e+00, 1.720000e+01,\n",
              "         9.400000e+01, 2.450000e+00, 2.990000e+00, 2.200000e-01,\n",
              "         2.290000e+00, 5.600000e+00, 1.240000e+00, 3.370000e+00,\n",
              "         1.265000e+03],\n",
              "        [1.229000e+01, 2.830000e+00, 2.220000e+00, 1.800000e+01,\n",
              "         8.800000e+01, 2.450000e+00, 2.250000e+00, 2.500000e-01,\n",
              "         1.990000e+00, 2.150000e+00, 1.150000e+00, 3.300000e+00,\n",
              "         2.900000e+02],\n",
              "        [1.237000e+01, 1.070000e+00, 2.100000e+00, 1.850000e+01,\n",
              "         8.800000e+01, 3.520000e+00, 3.750000e+00, 2.400000e-01,\n",
              "         1.950000e+00, 4.500000e+00, 1.040000e+00, 2.770000e+00,\n",
              "         6.600000e+02],\n",
              "        [1.364000e+01, 3.100000e+00, 2.560000e+00, 1.520000e+01,\n",
              "         1.160000e+02, 2.700000e+00, 3.030000e+00, 1.700000e-01,\n",
              "         1.660000e+00, 5.100000e+00, 9.600000e-01, 3.360000e+00,\n",
              "         8.450000e+02]]),\n",
              " array([2, 1, 2, 1, 0, 1, 1, 0, 2, 0, 1, 2, 2, 0, 0, 1, 2, 1, 1, 2, 2, 2,\n",
              "        1, 0, 0, 0, 1, 1, 0, 1, 2, 1, 0, 0, 2, 1, 0, 2, 2, 2, 1, 1, 2, 2,\n",
              "        2, 1, 1, 1, 1, 1, 2, 1, 0, 1, 1, 1, 0, 0, 1, 0, 0, 2, 2, 0, 2, 0,\n",
              "        2, 1, 0, 1, 0, 2, 1, 1, 0, 1, 1, 1, 1, 0, 1, 1, 1, 2, 2, 0, 2, 0,\n",
              "        1, 0, 0, 2, 1, 1, 2, 0, 0, 0, 2, 1, 1, 0, 1, 2, 1, 2, 1, 1, 0, 1,\n",
              "        0, 0, 1, 1, 2, 0, 2, 1, 2, 0, 1, 2, 1, 1]),\n",
              " array([0, 1, 0, 0, 2, 2, 0, 0, 1, 0, 0, 0, 2, 1, 2, 0, 1, 0, 1, 0, 0, 0,\n",
              "        1, 1, 1, 1, 0, 2, 2, 0, 1, 1, 0, 0, 2, 2, 0, 2, 2, 1, 1, 1, 2, 0,\n",
              "        2, 1, 0, 2, 0, 1, 0, 1, 1, 0])]"
            ]
          },
          "execution_count": 19,
          "metadata": {},
          "output_type": "execute_result"
        }
      ],
      "source": [
        "train_test_split(X, y, test_size=0.3, random_state=5)\n"
      ]
    },
    {
      "cell_type": "code",
      "execution_count": 20,
      "metadata": {
        "id": "ZZ-Y4r-RL_ar"
      },
      "outputs": [],
      "source": [
        "X_train, X_test, y_train, y_test = train_test_split(X, y, test_size=0.3, random_state=5)\n"
      ]
    },
    {
      "cell_type": "code",
      "execution_count": 21,
      "metadata": {
        "colab": {
          "base_uri": "https://localhost:8080/"
        },
        "id": "Zsz17uAINMhK",
        "outputId": "353eb131-1e21-4857-9370-68caa78d6f08"
      },
      "outputs": [
        {
          "name": "stdout",
          "output_type": "stream",
          "text": [
            "(178, 13) (124, 13) (54, 13) (178,) (124,) (54,)\n"
          ]
        }
      ],
      "source": [
        "print(X.shape, X_train.shape, X_test.shape, y.shape, y_train.shape, y_test.shape)"
      ]
    },
    {
      "cell_type": "code",
      "execution_count": 34,
      "metadata": {
        "id": "I_7L9X3pNsAC"
      },
      "outputs": [],
      "source": [
        "from sklearn.ensemble import RandomForestClassifier"
      ]
    },
    {
      "cell_type": "code",
      "execution_count": 36,
      "metadata": {
        "id": "kqFcP9KcOYjy"
      },
      "outputs": [],
      "source": [
        "model =RandomForestClassifier(random_state=3)"
      ]
    },
    {
      "cell_type": "code",
      "execution_count": 37,
      "metadata": {
        "colab": {
          "base_uri": "https://localhost:8080/",
          "height": 74
        },
        "id": "GAgoKboJOhLo",
        "outputId": "fa63089e-a6bf-4ad9-d022-20cd301a3791"
      },
      "outputs": [
        {
          "data": {
            "text/html": [
              "<style>#sk-container-id-1 {\n",
              "  /* Definition of color scheme common for light and dark mode */\n",
              "  --sklearn-color-text: black;\n",
              "  --sklearn-color-line: gray;\n",
              "  /* Definition of color scheme for unfitted estimators */\n",
              "  --sklearn-color-unfitted-level-0: #fff5e6;\n",
              "  --sklearn-color-unfitted-level-1: #f6e4d2;\n",
              "  --sklearn-color-unfitted-level-2: #ffe0b3;\n",
              "  --sklearn-color-unfitted-level-3: chocolate;\n",
              "  /* Definition of color scheme for fitted estimators */\n",
              "  --sklearn-color-fitted-level-0: #f0f8ff;\n",
              "  --sklearn-color-fitted-level-1: #d4ebff;\n",
              "  --sklearn-color-fitted-level-2: #b3dbfd;\n",
              "  --sklearn-color-fitted-level-3: cornflowerblue;\n",
              "\n",
              "  /* Specific color for light theme */\n",
              "  --sklearn-color-text-on-default-background: var(--sg-text-color, var(--theme-code-foreground, var(--jp-content-font-color1, black)));\n",
              "  --sklearn-color-background: var(--sg-background-color, var(--theme-background, var(--jp-layout-color0, white)));\n",
              "  --sklearn-color-border-box: var(--sg-text-color, var(--theme-code-foreground, var(--jp-content-font-color1, black)));\n",
              "  --sklearn-color-icon: #696969;\n",
              "\n",
              "  @media (prefers-color-scheme: dark) {\n",
              "    /* Redefinition of color scheme for dark theme */\n",
              "    --sklearn-color-text-on-default-background: var(--sg-text-color, var(--theme-code-foreground, var(--jp-content-font-color1, white)));\n",
              "    --sklearn-color-background: var(--sg-background-color, var(--theme-background, var(--jp-layout-color0, #111)));\n",
              "    --sklearn-color-border-box: var(--sg-text-color, var(--theme-code-foreground, var(--jp-content-font-color1, white)));\n",
              "    --sklearn-color-icon: #878787;\n",
              "  }\n",
              "}\n",
              "\n",
              "#sk-container-id-1 {\n",
              "  color: var(--sklearn-color-text);\n",
              "}\n",
              "\n",
              "#sk-container-id-1 pre {\n",
              "  padding: 0;\n",
              "}\n",
              "\n",
              "#sk-container-id-1 input.sk-hidden--visually {\n",
              "  border: 0;\n",
              "  clip: rect(1px 1px 1px 1px);\n",
              "  clip: rect(1px, 1px, 1px, 1px);\n",
              "  height: 1px;\n",
              "  margin: -1px;\n",
              "  overflow: hidden;\n",
              "  padding: 0;\n",
              "  position: absolute;\n",
              "  width: 1px;\n",
              "}\n",
              "\n",
              "#sk-container-id-1 div.sk-dashed-wrapped {\n",
              "  border: 1px dashed var(--sklearn-color-line);\n",
              "  margin: 0 0.4em 0.5em 0.4em;\n",
              "  box-sizing: border-box;\n",
              "  padding-bottom: 0.4em;\n",
              "  background-color: var(--sklearn-color-background);\n",
              "}\n",
              "\n",
              "#sk-container-id-1 div.sk-container {\n",
              "  /* jupyter's `normalize.less` sets `[hidden] { display: none; }`\n",
              "     but bootstrap.min.css set `[hidden] { display: none !important; }`\n",
              "     so we also need the `!important` here to be able to override the\n",
              "     default hidden behavior on the sphinx rendered scikit-learn.org.\n",
              "     See: https://github.com/scikit-learn/scikit-learn/issues/21755 */\n",
              "  display: inline-block !important;\n",
              "  position: relative;\n",
              "}\n",
              "\n",
              "#sk-container-id-1 div.sk-text-repr-fallback {\n",
              "  display: none;\n",
              "}\n",
              "\n",
              "div.sk-parallel-item,\n",
              "div.sk-serial,\n",
              "div.sk-item {\n",
              "  /* draw centered vertical line to link estimators */\n",
              "  background-image: linear-gradient(var(--sklearn-color-text-on-default-background), var(--sklearn-color-text-on-default-background));\n",
              "  background-size: 2px 100%;\n",
              "  background-repeat: no-repeat;\n",
              "  background-position: center center;\n",
              "}\n",
              "\n",
              "/* Parallel-specific style estimator block */\n",
              "\n",
              "#sk-container-id-1 div.sk-parallel-item::after {\n",
              "  content: \"\";\n",
              "  width: 100%;\n",
              "  border-bottom: 2px solid var(--sklearn-color-text-on-default-background);\n",
              "  flex-grow: 1;\n",
              "}\n",
              "\n",
              "#sk-container-id-1 div.sk-parallel {\n",
              "  display: flex;\n",
              "  align-items: stretch;\n",
              "  justify-content: center;\n",
              "  background-color: var(--sklearn-color-background);\n",
              "  position: relative;\n",
              "}\n",
              "\n",
              "#sk-container-id-1 div.sk-parallel-item {\n",
              "  display: flex;\n",
              "  flex-direction: column;\n",
              "}\n",
              "\n",
              "#sk-container-id-1 div.sk-parallel-item:first-child::after {\n",
              "  align-self: flex-end;\n",
              "  width: 50%;\n",
              "}\n",
              "\n",
              "#sk-container-id-1 div.sk-parallel-item:last-child::after {\n",
              "  align-self: flex-start;\n",
              "  width: 50%;\n",
              "}\n",
              "\n",
              "#sk-container-id-1 div.sk-parallel-item:only-child::after {\n",
              "  width: 0;\n",
              "}\n",
              "\n",
              "/* Serial-specific style estimator block */\n",
              "\n",
              "#sk-container-id-1 div.sk-serial {\n",
              "  display: flex;\n",
              "  flex-direction: column;\n",
              "  align-items: center;\n",
              "  background-color: var(--sklearn-color-background);\n",
              "  padding-right: 1em;\n",
              "  padding-left: 1em;\n",
              "}\n",
              "\n",
              "\n",
              "/* Toggleable style: style used for estimator/Pipeline/ColumnTransformer box that is\n",
              "clickable and can be expanded/collapsed.\n",
              "- Pipeline and ColumnTransformer use this feature and define the default style\n",
              "- Estimators will overwrite some part of the style using the `sk-estimator` class\n",
              "*/\n",
              "\n",
              "/* Pipeline and ColumnTransformer style (default) */\n",
              "\n",
              "#sk-container-id-1 div.sk-toggleable {\n",
              "  /* Default theme specific background. It is overwritten whether we have a\n",
              "  specific estimator or a Pipeline/ColumnTransformer */\n",
              "  background-color: var(--sklearn-color-background);\n",
              "}\n",
              "\n",
              "/* Toggleable label */\n",
              "#sk-container-id-1 label.sk-toggleable__label {\n",
              "  cursor: pointer;\n",
              "  display: block;\n",
              "  width: 100%;\n",
              "  margin-bottom: 0;\n",
              "  padding: 0.5em;\n",
              "  box-sizing: border-box;\n",
              "  text-align: center;\n",
              "}\n",
              "\n",
              "#sk-container-id-1 label.sk-toggleable__label-arrow:before {\n",
              "  /* Arrow on the left of the label */\n",
              "  content: \"▸\";\n",
              "  float: left;\n",
              "  margin-right: 0.25em;\n",
              "  color: var(--sklearn-color-icon);\n",
              "}\n",
              "\n",
              "#sk-container-id-1 label.sk-toggleable__label-arrow:hover:before {\n",
              "  color: var(--sklearn-color-text);\n",
              "}\n",
              "\n",
              "/* Toggleable content - dropdown */\n",
              "\n",
              "#sk-container-id-1 div.sk-toggleable__content {\n",
              "  max-height: 0;\n",
              "  max-width: 0;\n",
              "  overflow: hidden;\n",
              "  text-align: left;\n",
              "  /* unfitted */\n",
              "  background-color: var(--sklearn-color-unfitted-level-0);\n",
              "}\n",
              "\n",
              "#sk-container-id-1 div.sk-toggleable__content.fitted {\n",
              "  /* fitted */\n",
              "  background-color: var(--sklearn-color-fitted-level-0);\n",
              "}\n",
              "\n",
              "#sk-container-id-1 div.sk-toggleable__content pre {\n",
              "  margin: 0.2em;\n",
              "  border-radius: 0.25em;\n",
              "  color: var(--sklearn-color-text);\n",
              "  /* unfitted */\n",
              "  background-color: var(--sklearn-color-unfitted-level-0);\n",
              "}\n",
              "\n",
              "#sk-container-id-1 div.sk-toggleable__content.fitted pre {\n",
              "  /* unfitted */\n",
              "  background-color: var(--sklearn-color-fitted-level-0);\n",
              "}\n",
              "\n",
              "#sk-container-id-1 input.sk-toggleable__control:checked~div.sk-toggleable__content {\n",
              "  /* Expand drop-down */\n",
              "  max-height: 200px;\n",
              "  max-width: 100%;\n",
              "  overflow: auto;\n",
              "}\n",
              "\n",
              "#sk-container-id-1 input.sk-toggleable__control:checked~label.sk-toggleable__label-arrow:before {\n",
              "  content: \"▾\";\n",
              "}\n",
              "\n",
              "/* Pipeline/ColumnTransformer-specific style */\n",
              "\n",
              "#sk-container-id-1 div.sk-label input.sk-toggleable__control:checked~label.sk-toggleable__label {\n",
              "  color: var(--sklearn-color-text);\n",
              "  background-color: var(--sklearn-color-unfitted-level-2);\n",
              "}\n",
              "\n",
              "#sk-container-id-1 div.sk-label.fitted input.sk-toggleable__control:checked~label.sk-toggleable__label {\n",
              "  background-color: var(--sklearn-color-fitted-level-2);\n",
              "}\n",
              "\n",
              "/* Estimator-specific style */\n",
              "\n",
              "/* Colorize estimator box */\n",
              "#sk-container-id-1 div.sk-estimator input.sk-toggleable__control:checked~label.sk-toggleable__label {\n",
              "  /* unfitted */\n",
              "  background-color: var(--sklearn-color-unfitted-level-2);\n",
              "}\n",
              "\n",
              "#sk-container-id-1 div.sk-estimator.fitted input.sk-toggleable__control:checked~label.sk-toggleable__label {\n",
              "  /* fitted */\n",
              "  background-color: var(--sklearn-color-fitted-level-2);\n",
              "}\n",
              "\n",
              "#sk-container-id-1 div.sk-label label.sk-toggleable__label,\n",
              "#sk-container-id-1 div.sk-label label {\n",
              "  /* The background is the default theme color */\n",
              "  color: var(--sklearn-color-text-on-default-background);\n",
              "}\n",
              "\n",
              "/* On hover, darken the color of the background */\n",
              "#sk-container-id-1 div.sk-label:hover label.sk-toggleable__label {\n",
              "  color: var(--sklearn-color-text);\n",
              "  background-color: var(--sklearn-color-unfitted-level-2);\n",
              "}\n",
              "\n",
              "/* Label box, darken color on hover, fitted */\n",
              "#sk-container-id-1 div.sk-label.fitted:hover label.sk-toggleable__label.fitted {\n",
              "  color: var(--sklearn-color-text);\n",
              "  background-color: var(--sklearn-color-fitted-level-2);\n",
              "}\n",
              "\n",
              "/* Estimator label */\n",
              "\n",
              "#sk-container-id-1 div.sk-label label {\n",
              "  font-family: monospace;\n",
              "  font-weight: bold;\n",
              "  display: inline-block;\n",
              "  line-height: 1.2em;\n",
              "}\n",
              "\n",
              "#sk-container-id-1 div.sk-label-container {\n",
              "  text-align: center;\n",
              "}\n",
              "\n",
              "/* Estimator-specific */\n",
              "#sk-container-id-1 div.sk-estimator {\n",
              "  font-family: monospace;\n",
              "  border: 1px dotted var(--sklearn-color-border-box);\n",
              "  border-radius: 0.25em;\n",
              "  box-sizing: border-box;\n",
              "  margin-bottom: 0.5em;\n",
              "  /* unfitted */\n",
              "  background-color: var(--sklearn-color-unfitted-level-0);\n",
              "}\n",
              "\n",
              "#sk-container-id-1 div.sk-estimator.fitted {\n",
              "  /* fitted */\n",
              "  background-color: var(--sklearn-color-fitted-level-0);\n",
              "}\n",
              "\n",
              "/* on hover */\n",
              "#sk-container-id-1 div.sk-estimator:hover {\n",
              "  /* unfitted */\n",
              "  background-color: var(--sklearn-color-unfitted-level-2);\n",
              "}\n",
              "\n",
              "#sk-container-id-1 div.sk-estimator.fitted:hover {\n",
              "  /* fitted */\n",
              "  background-color: var(--sklearn-color-fitted-level-2);\n",
              "}\n",
              "\n",
              "/* Specification for estimator info (e.g. \"i\" and \"?\") */\n",
              "\n",
              "/* Common style for \"i\" and \"?\" */\n",
              "\n",
              ".sk-estimator-doc-link,\n",
              "a:link.sk-estimator-doc-link,\n",
              "a:visited.sk-estimator-doc-link {\n",
              "  float: right;\n",
              "  font-size: smaller;\n",
              "  line-height: 1em;\n",
              "  font-family: monospace;\n",
              "  background-color: var(--sklearn-color-background);\n",
              "  border-radius: 1em;\n",
              "  height: 1em;\n",
              "  width: 1em;\n",
              "  text-decoration: none !important;\n",
              "  margin-left: 1ex;\n",
              "  /* unfitted */\n",
              "  border: var(--sklearn-color-unfitted-level-1) 1pt solid;\n",
              "  color: var(--sklearn-color-unfitted-level-1);\n",
              "}\n",
              "\n",
              ".sk-estimator-doc-link.fitted,\n",
              "a:link.sk-estimator-doc-link.fitted,\n",
              "a:visited.sk-estimator-doc-link.fitted {\n",
              "  /* fitted */\n",
              "  border: var(--sklearn-color-fitted-level-1) 1pt solid;\n",
              "  color: var(--sklearn-color-fitted-level-1);\n",
              "}\n",
              "\n",
              "/* On hover */\n",
              "div.sk-estimator:hover .sk-estimator-doc-link:hover,\n",
              ".sk-estimator-doc-link:hover,\n",
              "div.sk-label-container:hover .sk-estimator-doc-link:hover,\n",
              ".sk-estimator-doc-link:hover {\n",
              "  /* unfitted */\n",
              "  background-color: var(--sklearn-color-unfitted-level-3);\n",
              "  color: var(--sklearn-color-background);\n",
              "  text-decoration: none;\n",
              "}\n",
              "\n",
              "div.sk-estimator.fitted:hover .sk-estimator-doc-link.fitted:hover,\n",
              ".sk-estimator-doc-link.fitted:hover,\n",
              "div.sk-label-container:hover .sk-estimator-doc-link.fitted:hover,\n",
              ".sk-estimator-doc-link.fitted:hover {\n",
              "  /* fitted */\n",
              "  background-color: var(--sklearn-color-fitted-level-3);\n",
              "  color: var(--sklearn-color-background);\n",
              "  text-decoration: none;\n",
              "}\n",
              "\n",
              "/* Span, style for the box shown on hovering the info icon */\n",
              ".sk-estimator-doc-link span {\n",
              "  display: none;\n",
              "  z-index: 9999;\n",
              "  position: relative;\n",
              "  font-weight: normal;\n",
              "  right: .2ex;\n",
              "  padding: .5ex;\n",
              "  margin: .5ex;\n",
              "  width: min-content;\n",
              "  min-width: 20ex;\n",
              "  max-width: 50ex;\n",
              "  color: var(--sklearn-color-text);\n",
              "  box-shadow: 2pt 2pt 4pt #999;\n",
              "  /* unfitted */\n",
              "  background: var(--sklearn-color-unfitted-level-0);\n",
              "  border: .5pt solid var(--sklearn-color-unfitted-level-3);\n",
              "}\n",
              "\n",
              ".sk-estimator-doc-link.fitted span {\n",
              "  /* fitted */\n",
              "  background: var(--sklearn-color-fitted-level-0);\n",
              "  border: var(--sklearn-color-fitted-level-3);\n",
              "}\n",
              "\n",
              ".sk-estimator-doc-link:hover span {\n",
              "  display: block;\n",
              "}\n",
              "\n",
              "/* \"?\"-specific style due to the `<a>` HTML tag */\n",
              "\n",
              "#sk-container-id-1 a.estimator_doc_link {\n",
              "  float: right;\n",
              "  font-size: 1rem;\n",
              "  line-height: 1em;\n",
              "  font-family: monospace;\n",
              "  background-color: var(--sklearn-color-background);\n",
              "  border-radius: 1rem;\n",
              "  height: 1rem;\n",
              "  width: 1rem;\n",
              "  text-decoration: none;\n",
              "  /* unfitted */\n",
              "  color: var(--sklearn-color-unfitted-level-1);\n",
              "  border: var(--sklearn-color-unfitted-level-1) 1pt solid;\n",
              "}\n",
              "\n",
              "#sk-container-id-1 a.estimator_doc_link.fitted {\n",
              "  /* fitted */\n",
              "  border: var(--sklearn-color-fitted-level-1) 1pt solid;\n",
              "  color: var(--sklearn-color-fitted-level-1);\n",
              "}\n",
              "\n",
              "/* On hover */\n",
              "#sk-container-id-1 a.estimator_doc_link:hover {\n",
              "  /* unfitted */\n",
              "  background-color: var(--sklearn-color-unfitted-level-3);\n",
              "  color: var(--sklearn-color-background);\n",
              "  text-decoration: none;\n",
              "}\n",
              "\n",
              "#sk-container-id-1 a.estimator_doc_link.fitted:hover {\n",
              "  /* fitted */\n",
              "  background-color: var(--sklearn-color-fitted-level-3);\n",
              "}\n",
              "</style><div id=\"sk-container-id-1\" class=\"sk-top-container\"><div class=\"sk-text-repr-fallback\"><pre>RandomForestClassifier(random_state=3)</pre><b>In a Jupyter environment, please rerun this cell to show the HTML representation or trust the notebook. <br />On GitHub, the HTML representation is unable to render, please try loading this page with nbviewer.org.</b></div><div class=\"sk-container\" hidden><div class=\"sk-item\"><div class=\"sk-estimator fitted sk-toggleable\"><input class=\"sk-toggleable__control sk-hidden--visually\" id=\"sk-estimator-id-1\" type=\"checkbox\" checked><label for=\"sk-estimator-id-1\" class=\"sk-toggleable__label fitted sk-toggleable__label-arrow fitted\">&nbsp;&nbsp;RandomForestClassifier<a class=\"sk-estimator-doc-link fitted\" rel=\"noreferrer\" target=\"_blank\" href=\"https://scikit-learn.org/1.5/modules/generated/sklearn.ensemble.RandomForestClassifier.html\">?<span>Documentation for RandomForestClassifier</span></a><span class=\"sk-estimator-doc-link fitted\">i<span>Fitted</span></span></label><div class=\"sk-toggleable__content fitted\"><pre>RandomForestClassifier(random_state=3)</pre></div> </div></div></div></div>"
            ],
            "text/plain": [
              "RandomForestClassifier(random_state=3)"
            ]
          },
          "execution_count": 37,
          "metadata": {},
          "output_type": "execute_result"
        }
      ],
      "source": [
        "model.fit(X_train, y_train)"
      ]
    },
    {
      "cell_type": "code",
      "execution_count": 38,
      "metadata": {
        "colab": {
          "base_uri": "https://localhost:8080/"
        },
        "id": "Zd-v-ry9O5uj",
        "outputId": "1ad2fea8-be6e-4f8e-c1eb-974b530f1d50"
      },
      "outputs": [
        {
          "data": {
            "text/plain": [
              "array([0, 1, 0, 0, 2, 2, 0, 0, 1, 0, 0, 0, 2, 1, 2, 0, 1, 0, 1, 1, 0, 0,\n",
              "       1, 1, 1, 1, 0, 2, 2, 0, 1, 1, 0, 0, 2, 2, 0, 2, 2, 1, 1, 2, 2, 0,\n",
              "       2, 1, 0, 2, 0, 1, 0, 1, 1, 0])"
            ]
          },
          "execution_count": 38,
          "metadata": {},
          "output_type": "execute_result"
        }
      ],
      "source": [
        "y_pred = model.predict(X_test)\n",
        "y_pred"
      ]
    },
    {
      "cell_type": "code",
      "execution_count": 39,
      "metadata": {
        "colab": {
          "base_uri": "https://localhost:8080/"
        },
        "id": "6xijn6L3PIgM",
        "outputId": "b8ada4a4-ae97-43e8-9b96-f2b35cc6e865"
      },
      "outputs": [
        {
          "data": {
            "text/plain": [
              "array([0, 1, 0, 0, 2, 2, 0, 0, 1, 0, 0, 0, 2, 1, 2, 0, 1, 0, 1, 0, 0, 0,\n",
              "       1, 1, 1, 1, 0, 2, 2, 0, 1, 1, 0, 0, 2, 2, 0, 2, 2, 1, 1, 1, 2, 0,\n",
              "       2, 1, 0, 2, 0, 1, 0, 1, 1, 0])"
            ]
          },
          "execution_count": 39,
          "metadata": {},
          "output_type": "execute_result"
        }
      ],
      "source": [
        "y_test"
      ]
    },
    {
      "cell_type": "code",
      "execution_count": 27,
      "metadata": {
        "id": "9NJxxfJAPPtg"
      },
      "outputs": [],
      "source": [
        "from sklearn.metrics import accuracy_score"
      ]
    },
    {
      "cell_type": "code",
      "execution_count": 56,
      "metadata": {
        "colab": {
          "base_uri": "https://localhost:8080/"
        },
        "id": "73BpqwSDPZH0",
        "outputId": "a260f442-8bc6-49bc-eb9d-01fdffa58565"
      },
      "outputs": [
        {
          "data": {
            "text/plain": [
              "0.9629629629629629"
            ]
          },
          "execution_count": 56,
          "metadata": {},
          "output_type": "execute_result"
        }
      ],
      "source": [
        "accuracy_score(y_test, y_pred)"
      ]
    },
    {
      "cell_type": "code",
      "execution_count": 55,
      "metadata": {
        "colab": {
          "base_uri": "https://localhost:8080/"
        },
        "id": "qQyEYuM_PgiD",
        "outputId": "ff982195-8369-4b61-d11a-09f3115acd14"
      },
      "outputs": [
        {
          "data": {
            "text/plain": [
              "0.9629629629629629"
            ]
          },
          "execution_count": 55,
          "metadata": {},
          "output_type": "execute_result"
        }
      ],
      "source": [
        "model.score(X_test, y_test)"
      ]
    },
    {
      "cell_type": "code",
      "execution_count": 54,
      "metadata": {
        "id": "uxytQsszPtck"
      },
      "outputs": [],
      "source": [
        "import numpy as np\n",
        "\n",
        "X_real = np.array([\n",
        "    [13, 1.6, 2.2, 16, 118, 2.6, 2.9, 0.21, 1.6, 5.8, 0.92, 3.2, 1011],\n",
        "    [12, 2.8, 2.2, 18, 100, 2.5, 2.3, 0.25, 2.0, 2.2, 1.15, 3.3, 1000],\n",
        "    [14, 4.1, 2.7, 24, 101, 1.6, 0.7, 0.53, 1.4, 9.4, 0.61, 1.6, 560]])\n"
      ]
    },
    {
      "cell_type": "code",
      "execution_count": 53,
      "metadata": {
        "colab": {
          "base_uri": "https://localhost:8080/"
        },
        "id": "81TRwFBTPyOk",
        "outputId": "aefd660a-617b-4ae4-901b-5c67b706cc78"
      },
      "outputs": [
        {
          "data": {
            "text/plain": [
              "array([0, 1, 2])"
            ]
          },
          "execution_count": 53,
          "metadata": {},
          "output_type": "execute_result"
        }
      ],
      "source": [
        "model.predict(X_real)"
      ]
    },
    {
      "cell_type": "code",
      "execution_count": null,
      "metadata": {
        "id": "DOxn_ENeRnHm"
      },
      "outputs": [],
      "source": []
    },
    {
      "cell_type": "code",
      "execution_count": null,
      "metadata": {
        "id": "QatgolLPR_un"
      },
      "outputs": [],
      "source": []
    }
  ],
  "metadata": {
    "colab": {
      "name": "Colaboratory へようこそ",
      "provenance": []
    },
    "kernelspec": {
      "display_name": "Python 3",
      "name": "python3"
    },
    "language_info": {
      "codemirror_mode": {
        "name": "ipython",
        "version": 3
      },
      "file_extension": ".py",
      "mimetype": "text/x-python",
      "name": "python",
      "nbconvert_exporter": "python",
      "pygments_lexer": "ipython3",
      "version": "3.12.3"
    }
  },
  "nbformat": 4,
  "nbformat_minor": 0
}
